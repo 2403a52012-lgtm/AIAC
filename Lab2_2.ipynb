{
  "nbformat": 4,
  "nbformat_minor": 0,
  "metadata": {
    "colab": {
      "provenance": [],
      "authorship_tag": "ABX9TyNmxXa0VtKnWorFaTeN+oT6",
      "include_colab_link": true
    },
    "kernelspec": {
      "name": "python3",
      "display_name": "Python 3"
    },
    "language_info": {
      "name": "python"
    }
  },
  "cells": [
    {
      "cell_type": "markdown",
      "metadata": {
        "id": "view-in-github",
        "colab_type": "text"
      },
      "source": [
        "<a href=\"https://colab.research.google.com/github/2403a52012-lgtm/AIAC/blob/main/Lab2_2.ipynb\" target=\"_parent\"><img src=\"https://colab.research.google.com/assets/colab-badge.svg\" alt=\"Open In Colab\"/></a>"
      ]
    },
    {
      "cell_type": "code",
      "source": [],
      "metadata": {
        "id": "brqpXi_73EqP"
      },
      "execution_count": null,
      "outputs": []
    },
    {
      "cell_type": "markdown",
      "source": [
        "Use Gemini in Colab to write a function that filters out all negative numbers from a\n",
        "given list.\n",
        "prompt: write a function that filters out all negative numbers from a list."
      ],
      "metadata": {
        "id": "nvZgq5Mn2kGS"
      }
    },
    {
      "cell_type": "markdown",
      "source": [],
      "metadata": {
        "id": "W0p-V2Xb6MTg"
      }
    },
    {
      "cell_type": "code",
      "metadata": {
        "id": "1e2e5df8"
      },
      "source": [],
      "execution_count": null,
      "outputs": []
    },
    {
      "cell_type": "markdown",
      "source": [
        "Ask Gemini to generate code that reads a text file and counts the frequency of each\n",
        "word. Then ask it to explain the code."
      ],
      "metadata": {
        "id": "sdjDQvov4uPv"
      }
    },
    {
      "cell_type": "markdown",
      "source": [
        "prompt: generate a code that reads a text file and counts the frequency of each word."
      ],
      "metadata": {
        "id": "qIGTGSsV8cTp"
      }
    },
    {
      "cell_type": "markdown",
      "source": [],
      "metadata": {
        "id": "LH1ybRNB34ci"
      }
    },
    {
      "cell_type": "code",
      "source": [],
      "metadata": {
        "id": "BlhfoEaT5sWW"
      },
      "execution_count": null,
      "outputs": []
    },
    {
      "cell_type": "code",
      "metadata": {
        "colab": {
          "base_uri": "https://localhost:8080/"
        },
        "id": "ed53b18d",
        "outputId": "5a34648a-1a62-4080-9091-72995a0ceecc"
      },
      "source": [
        "import re\n",
        "from collections import Counter\n",
        "\n",
        "def count_word_frequency(filepath):\n",
        "  \"\"\"\n",
        "  Reads a text file and counts the frequency of each word.\n",
        "\n",
        "  Args:\n",
        "    filepath: The path to the text file.\n",
        "\n",
        "  Returns:\n",
        "    A dictionary where keys are words and values are their frequencies.\n",
        "  \"\"\"\n",
        "  word_list = []\n",
        "  try:\n",
        "    with open(filepath, 'r', encoding='utf-8') as f:\n",
        "      text = f.read().lower()\n",
        "      # Use regex to find all words (sequences of letters)\n",
        "      word_list = re.findall(r'\\b[a-z]+\\b', text)\n",
        "  except FileNotFoundError:\n",
        "    print(f\"Error: File not found at {filepath}\")\n",
        "    return {}\n",
        "\n",
        "  # Count word frequencies\n",
        "  word_counts = Counter(word_list)\n",
        "  return dict(word_counts)\n",
        "\n",
        "# Create a dummy text file for demonstration\n",
        "with open(\"sample_text.txt\", \"w\", encoding=\"utf-8\") as f:\n",
        "    f.write(\"This is a sample text file.\\n\")\n",
        "    f.write(\"This file is just a sample.\")\n",
        "\n",
        "# Example usage:\n",
        "file_path = \"sample_text.txt\"\n",
        "word_frequencies = count_word_frequency(file_path)\n",
        "print(word_frequencies)"
      ],
      "execution_count": null,
      "outputs": [
        {
          "output_type": "stream",
          "name": "stdout",
          "text": [
            "{'this': 2, 'is': 2, 'a': 2, 'sample': 2, 'text': 1, 'file': 2, 'just': 1}\n"
          ]
        }
      ]
    },
    {
      "cell_type": "markdown",
      "source": [
        "def filter_negative_numbers(numbers):: This line defines a function named filter_negative_numbers that takes one argument, numbers, which is expected to be a list.\n",
        "Docstring (\"\"\"Docstring goes here\"\"\"): This is a documentation string that explains what the function does, its arguments (Args), and what it returns (Returns). It's good practice to include docstrings to make your code understandable.\n",
        "return [number for number in numbers if number >= 0]: This is the core of the function. It's a list comprehension, which is a concise way to create lists in Python.\n",
        "for number in numbers: This iterates through each element in the input numbers list.\n",
        "if number >= 0: This is a condition. For each number, it checks if the number is greater than or equal to 0 (i.e., not negative).\n",
        "[number ...]: If the condition is True, the number is included in the new list being created.\n",
        "The entire expression creates a new list containing only the numbers from the original list that met the condition (>= 0). This new list is then returned by the function.\n",
        "# Example usage:: This is a comment indicating the start of example code demonstrating how to use the function.\n",
        "my_list = [1, -2, 3, -4, 5, 0, -10]: This line creates a list named my_list containing both positive, negative, and zero values.\n",
        "filtered_list = filter_negative_numbers(my_list): This line calls the filter_negative_numbers function with my_list as the input. The returned list (containing only the non-negative numbers) is stored in the variable filtered_list.\n",
        "print(filtered_list): This line prints the contents of the filtered_list to the console. Based on the input my_list, the output will be [1, 3, 5, 0].\n",
        "In summary, this code defines a function that efficiently creates a new list containing only the non-negative elements from an input list, and then demonstrates how to use this function with an example list.\n",
        "\n",
        "\n",
        "Please explain this code:\n",
        "\n",
        "I have already explained the selected code in my previous response. Do you have any other questions about it, or would you like to move on to something else?\n",
        "\n",
        "\n",
        "Ask Gemini to generate code that reads a text file and counts the frequency of each word. Then ask it to explain the code.\n",
        "Sure, I can help with that. First, I'll generate the code to read a text file and count the frequency of each word. I'll also include some example text to demonstrate its usage.\n",
        "\n",
        "I have generated the code to count word frequencies from a text file and demonstrated its usage. Now, as you requested, I can explain how the code works. Would you like me to do that?\n",
        "\n",
        "\n",
        "Please explain this code:\n",
        "\n",
        "Certainly, I can explain the selected code.\n",
        "\n",
        "The selected code defines a Python function count_word_frequency that takes a file path as input and returns a dictionary containing the frequency of each word in the file.\n",
        "\n",
        "Here's a breakdown:\n",
        "\n",
        "import re and from collections import Counter: These lines import the necessary libraries. re is used for regular expressions to find words, and Counter is a convenient class for counting hashable objects.\n",
        "def count_word_frequency(filepath):: This defines the function count_word_frequency which accepts one argument, filepath.\n",
        "Docstring: The triple-quoted string explains what the function does, its arguments (filepath), and what it returns (a dictionary of word frequencies).\n",
        "word_list = []: Initializes an empty list to store the words found in the file.\n",
        "try...except FileNotFoundError: This block attempts to open and read the file. If the file is not found, it catches the FileNotFoundError, prints an error message, and returns an empty dictionary.\n",
        "with open(filepath, 'r', encoding='utf-8') as f:: This opens the file specified by filepath in read mode ('r') with UTF-8 encoding. The with statement ensures the file is automatically closed even if errors occur.\n",
        "text = f.read().lower(): Reads the entire content of the file into the text variable and converts it to lowercase to ensure case-insensitive word counting.\n",
        "word_list = re.findall(r'\\b[a-z]+\\b', text): This is where regular expressions are used.\n",
        "re.findall() finds all occurrences of a pattern in a string.\n",
        "r'\\b[a-z]+\\b' is the regular expression pattern:\n",
        "\\b: Matches a word boundary. This ensures that \"the\" in \"there\" is not matched as a whole word.\n",
        "[a-z]+: Matches one or more lowercase letters.\n",
        "\\b: Matches another word boundary.\n",
        "This effectively extracts sequences of lowercase letters that are whole words and stores them in word_list.\n",
        "word_counts = Counter(word_list): Creates a Counter object from the word_list. The Counter automatically counts the occurrences of each unique word.\n",
        "return dict(word_counts): Converts the Counter object back into a regular dictionary and returns it.\n",
        "# Create a dummy text file for demonstration: This is a comment indicating the creation of a temporary file.\n",
        "with open(\"sample_text.txt\", \"w\", encoding=\"utf-8\") as f:: This creates or opens a file named sample_text.txt in write mode ('w') with UTF-8 encoding.\n",
        "f.write(...): These lines write sample text into the sample_text.txt file.\n",
        "# Example usage:: Comment indicating the start of the example.\n",
        "file_path = \"sample_text.txt\": Sets the file_path variable to the name of the dummy file.\n",
        "word_frequencies = count_word_frequency(file_path): Calls the count_word_frequency function with the dummy file path and stores the resulting word frequency dictionary in word_frequencies.\n",
        "print(word_frequencies): Prints the word_frequencies dictionary to the console, showing the count of each word in the sample text.\n",
        "In summary, the code defines a reusable function to count word frequencies in any given text file and provides a simple example demonstrating how to use it with a temporary file.\n",
        "\n"
      ],
      "metadata": {
        "id": "IoMk52PJ8LPd"
      }
    },
    {
      "cell_type": "markdown",
      "source": [],
      "metadata": {
        "id": "QaOeth5B4jVO"
      }
    },
    {
      "cell_type": "markdown",
      "source": [
        "Use Cursor AI to generate a Python class called Book with attributes title, author, and\n",
        "a method summary() that prints the details.\n",
        "prompt: Generate a python class Book with attributes title, author,and a method summuary()that prints the details."
      ],
      "metadata": {
        "id": "mvPxvauH9UjV"
      }
    },
    {
      "cell_type": "code",
      "source": [],
      "metadata": {
        "id": "6jQtzDy14iej"
      },
      "execution_count": null,
      "outputs": []
    },
    {
      "cell_type": "code",
      "metadata": {
        "colab": {
          "base_uri": "https://localhost:8080/"
        },
        "id": "ee8b6372",
        "outputId": "37a3ec05-37f4-427d-e9a6-7a498c6a00c4"
      },
      "source": [
        "class Book:\n",
        "  \"\"\"\n",
        "  Represents a book with title and author.\n",
        "  \"\"\"\n",
        "  def __init__(self, title, author):\n",
        "    \"\"\"\n",
        "    Initializes a Book object.\n",
        "\n",
        "    Args:\n",
        "      title: The title of the book.\n",
        "      author: The author of the book.\n",
        "    \"\"\"\n",
        "    self.title = title\n",
        "    self.author = author\n",
        "\n",
        "  def summary(self):\n",
        "    \"\"\"\n",
        "    Prints the details of the book.\n",
        "    \"\"\"\n",
        "    print(f\"Title: {self.title}\")\n",
        "    print(f\"Author: {self.author}\")\n",
        "\n",
        "# Example usage:\n",
        "my_book = Book(\"The Hitchhiker's Guide to the Galaxy\", \"Douglas Adams\")\n",
        "my_book.summary()"
      ],
      "execution_count": null,
      "outputs": [
        {
          "output_type": "stream",
          "name": "stdout",
          "text": [
            "Title: The Hitchhiker's Guide to the Galaxy\n",
            "Author: Douglas Adams\n"
          ]
        }
      ]
    },
    {
      "cell_type": "markdown",
      "source": [
        "class Book:: This line defines a new class named Book. Classes are blueprints for creating objects (instances).\n",
        "\"\"\" Represents a book with title and author. \"\"\": This is a docstring for the class. It explains the purpose of the Book class.\n",
        "def __init__(self, title, author):: This is the constructor method of the class. It's a special method that is automatically called when you create a new Book object.\n",
        "self: Refers to the instance of the class itself.\n",
        "title and author: These are parameters that you pass when creating a Book object (e.g., the title and author of the book).\n",
        "The docstring within __init__ explains its purpose and arguments.\n",
        "self.title = title and self.author = author: These lines assign the values passed for title and author to the title and author attributes of the Book object.\n",
        "def summary(self):: This defines a method within the Book class called summary. Methods are functions that belong to a class and operate on the class's objects.\n",
        "self: Again, refers to the instance of the class.\n",
        "The docstring for summary explains that it prints the details of the book.\n",
        "print(f\"Title: {self.title}\") and print(f\"Author: {self.author}\"): These lines use f-strings to print the title and author attributes of the specific Book object on which the summary method is called.\n",
        "# Example usage:: This is a comment indicating the start of example code.\n",
        "my_book = Book(\"The Hitchhiker's Guide to the Galaxy\", \"Douglas Adams\"): This line creates an instance (an object) of the Book class. It calls the __init__ method with the title \"The Hitchhiker's Guide to the Galaxy\" and the author \"Douglas Adams\". This creates a Book object named my_book with these attributes.\n",
        "my_book.summary(): This line calls the summary method on the my_book object. This will execute the code inside the summary method for the my_book instance, printing its title and author.\n",
        "In essence, this code defines a simple structure for representing books and provides a way to display their key information.\n",
        "\n"
      ],
      "metadata": {
        "id": "q2Xj6qK9_7bg"
      }
    },
    {
      "cell_type": "markdown",
      "source": [
        "Ask Gemini to write a program that checks whether a number is an Armstrong\n",
        "number, and then modify it using Cursor AI to improve performance or structure.\n",
        "Prompt:write a program that checks wheather a numberis a armstrong number,and then modify it is using Cursor AI to improve performance or structure."
      ],
      "metadata": {
        "id": "X1Gj74SdABTX"
      }
    },
    {
      "cell_type": "code",
      "metadata": {
        "colab": {
          "base_uri": "https://localhost:8080/"
        },
        "id": "386bc36d",
        "outputId": "b76e743b-a2aa-42e4-cd70-bff2a3cb0084"
      },
      "source": [
        "def is_armstrong_number(number):\n",
        "  \"\"\"\n",
        "  Checks if a number is an Armstrong number.\n",
        "\n",
        "  An Armstrong number (or narcissistic number) is a number that is the sum of\n",
        "  its own digits each raised to the power of the number of digits.\n",
        "\n",
        "  Args:\n",
        "    number: An integer.\n",
        "\n",
        "  Returns:\n",
        "    True if the number is an Armstrong number, False otherwise.\n",
        "  \"\"\"\n",
        "  # Convert the number to a string to get the number of digits\n",
        "  num_str = str(number)\n",
        "  num_digits = len(num_str)\n",
        "\n",
        "  # Calculate the sum of each digit raised to the power of the number of digits\n",
        "  armstrong_sum = 0\n",
        "  for digit in num_str:\n",
        "    armstrong_sum += int(digit) ** num_digits\n",
        "\n",
        "  # Check if the sum equals the original number\n",
        "  return armstrong_sum == number\n",
        "\n",
        "# Example usage:\n",
        "num_to_check = 153\n",
        "if is_armstrong_number(num_to_check):\n",
        "  print(f\"{num_to_check} is an Armstrong number\")\n",
        "else:\n",
        "  print(f\"{num_to_check} is not an Armstrong number\")\n",
        "\n",
        "num_to_check = 123\n",
        "if is_armstrong_number(num_to_check):\n",
        "  print(f\"{num_to_check} is an Armstrong number\")\n",
        "else:\n",
        "  print(f\"{num_to_check} is not an Armstrong number\")"
      ],
      "execution_count": null,
      "outputs": [
        {
          "output_type": "stream",
          "name": "stdout",
          "text": [
            "153 is an Armstrong number\n",
            "123 is not an Armstrong number\n"
          ]
        }
      ]
    },
    {
      "cell_type": "markdown",
      "source": [
        "This code snippet contains the implementation of the is_armstrong_number function and examples of how to use it.\n",
        "\n",
        "Here's a breakdown:\n",
        "\n",
        "Docstring (\"\"\" ... \"\"\"): This part of the code is a docstring that explains the function's purpose, its arguments (Args), and what it returns (Returns). It clarifies that the function checks if a given integer is an Armstrong number.\n",
        "num_str = str(number): This line converts the input number into a string. This is done to easily determine the number of digits in the number and to iterate through each digit.\n",
        "num_digits = len(num_str): This line calculates the number of digits in the number by getting the length of the string representation.\n",
        "armstrong_sum = 0: Initializes a variable armstrong_sum to 0. This variable will store the sum of each digit raised to the power of the total number of digits.\n",
        "for digit in num_str:: This loop iterates through each character (which is a digit) in the num_str string.\n",
        "armstrong_sum += int(digit) ** num_digits: Inside the loop, for each digit:\n",
        "int(digit): Converts the digit character back into an integer.\n",
        "** num_digits: Raises the integer value of the digit to the power of num_digits (the total number of digits in the original number).\n",
        "armstrong_sum += ...: Adds the result to the armstrong_sum.\n",
        "return armstrong_sum == number: After the loop finishes, this line checks if the calculated armstrong_sum is equal to the original number. If they are equal, the function returns True, indicating that the number is an Armstrong number. Otherwise, it returns False.\n",
        "# Example usage:: This is a comment indicating the start of example code that demonstrates how to use the is_armstrong_number function.\n",
        "num_to_check = 153: Sets a variable num_to_check to the value 153.\n",
        "if is_armstrong_number(num_to_check): ... else: ...: This is an if-else block that calls the is_armstrong_number function with num_to_check. Based on the boolean value returned by the function, it prints whether 153 is an Armstrong number or not.\n",
        "num_to_check = 123: Sets the num_to_check variable to 123 for another example.\n",
        "if is_armstrong_number(num_to_check): ... else: ...: Another if-else block that checks and prints whether 123 is an Armstrong number.\n",
        "In summary, the selected code defines the logic for identifying an Armstrong number by summing the digits raised to the power of the number of digits and then provides clear examples of how to test the function with different numbers.\n",
        "\n",
        "\n",
        "\n",
        "\n",
        "\n",
        "\n",
        "\n",
        "\n",
        "\n",
        "\n"
      ],
      "metadata": {
        "id": "Dg3sjkz7T7q6"
      }
    },
    {
      "cell_type": "markdown",
      "source": [
        "Use both Gemini and Cursor AI to generate code for sorting a list of dictionaries by a\n",
        "specific key (e.g., age).\n",
        "Prompt: Generate code for sorting a list of dictionaries by a specific key (e.g., age)."
      ],
      "metadata": {
        "id": "1JDSIA4bUPTF"
      }
    },
    {
      "cell_type": "markdown",
      "source": [],
      "metadata": {
        "id": "6ZHANFRaULxq"
      }
    },
    {
      "cell_type": "code",
      "metadata": {
        "colab": {
          "base_uri": "https://localhost:8080/"
        },
        "id": "c0652a48",
        "outputId": "c60301dc-a469-4270-82ae-9eb83ab36e5b"
      },
      "source": [
        "def sort_list_of_dicts(list_of_dicts, key):\n",
        "  \"\"\"\n",
        "  Sorts a list of dictionaries by a specific key.\n",
        "\n",
        "  Args:\n",
        "    list_of_dicts: The list of dictionaries to sort.\n",
        "    key: The key to sort by.\n",
        "\n",
        "  Returns:\n",
        "    A new list of dictionaries sorted by the specified key.\n",
        "  \"\"\"\n",
        "  return sorted(list_of_dicts, key=lambda x: x[key])\n",
        "\n",
        "# Example usage:\n",
        "data = [\n",
        "    {\"name\": \"Alice\", \"age\": 30},\n",
        "    {\"name\": \"Bob\", \"age\": 25},\n",
        "    {\"name\": \"Charlie\", \"age\": 35},\n",
        "    {\"name\": \"David\", \"age\": 25},\n",
        "]\n",
        "\n",
        "sorted_data = sort_list_of_dicts(data, key=\"age\")\n",
        "print(sorted_data)"
      ],
      "execution_count": null,
      "outputs": [
        {
          "output_type": "stream",
          "name": "stdout",
          "text": [
            "[{'name': 'Bob', 'age': 25}, {'name': 'David', 'age': 25}, {'name': 'Alice', 'age': 30}, {'name': 'Charlie', 'age': 35}]\n"
          ]
        }
      ]
    },
    {
      "cell_type": "markdown",
      "source": [
        "Certainly, I can explain the selected code.\n",
        "\n",
        "This code defines a Python function sort_list_of_dicts that sorts a list of dictionaries based on the value associated with a specified key, and then provides an example of how to use it.\n",
        "\n",
        "Here's a breakdown:\n",
        "\n",
        "def sort_list_of_dicts(list_of_dicts, key):: This line defines a function named sort_list_of_dicts that takes two arguments:\n",
        "list_of_dicts: The list of dictionaries that you want to sort.\n",
        "key: The key within each dictionary that you want to use as the basis for sorting.\n",
        "Docstring (\"\"\" ... \"\"\"): This is a docstring that explains the function's purpose, its arguments (Args), and what it returns (Returns).\n",
        "return sorted(list_of_dicts, key=lambda x: x[key]): This is the core of the sorting logic.\n",
        "sorted(): This is a built-in Python function that returns a new sorted list from the items in an iterable. It does not modify the original list.\n",
        "list_of_dicts: This is the list that sorted() will operate on.\n",
        "key=lambda x: x[key]: This is the crucial part that tells sorted() how to sort the list.\n",
        "key= : This argument specifies a function to be called on each list element prior to making comparisons.\n",
        "lambda x: x[key]: This is a small, anonymous function (a lambda function).\n",
        "lambda x:: Defines a simple function that takes one argument, x. In this context, x will represent each dictionary in the list_of_dicts as sorted() iterates through it.\n",
        "x[key]: This accesses the value associated with the specified key within the current dictionary (x).\n",
        "So, for each dictionary in the list, the sorted() function will use the value of the specified key to determine the sorting order. The function then returns the newly sorted list.\n",
        "# Example usage:: This is a comment indicating the start of example code.\n",
        "data = [...]: This defines a sample list of dictionaries named data. Each dictionary represents a person with \"name\" and \"age\".\n",
        "sorted_data = sort_list_of_dicts(data, key=\"age\"): This line calls the sort_list_of_dicts function with the data list and the key \"age\". The function sorts the data list based on the \"age\" value in each dictionary, and the resulting sorted list is stored in the sorted_data variable.\n",
        "print(sorted_data): This line prints the contents of the sorted_data list to the console, showing the dictionaries sorted by age.\n"
      ],
      "metadata": {
        "id": "1O9-U3F6W0-k"
      }
    },
    {
      "cell_type": "code",
      "metadata": {
        "colab": {
          "base_uri": "https://localhost:8080/"
        },
        "id": "3965d5db",
        "outputId": "a9e46746-c20a-4c79-d933-8d741782e28d"
      },
      "source": [
        "def filter_negative_numbers(numbers):\n",
        "  \"\"\"\n",
        "  Filters out all negative numbers from a list.\n",
        "\n",
        "  Args:\n",
        "    numbers: A list of numbers.\n",
        "\n",
        "  Returns:\n",
        "    A new list containing only the non-negative numbers from the input list.\n",
        "  \"\"\"\n",
        "  return [number for number in numbers if number >= 0]\n",
        "\n",
        "# Example usage:\n",
        "my_list = [1, -2, 3, -4, 5, 0, -10]\n",
        "filtered_list = filter_negative_numbers(my_list)\n",
        "print(filtered_list)"
      ],
      "execution_count": 3,
      "outputs": [
        {
          "output_type": "stream",
          "name": "stdout",
          "text": [
            "[1, 3, 5, 0]\n"
          ]
        }
      ]
    },
    {
      "cell_type": "markdown",
      "source": [
        "his code snippet defines a Python function called filter_negative_numbers that takes a list of numbers as input and returns a new list containing only the non-negative numbers from the original list.\n",
        "\n",
        "Here's a breakdown:\n",
        "\n",
        "def filter_negative_numbers(numbers):: This line defines the function named filter_negative_numbers that accepts one argument, numbers, which is expected to be a list.\n",
        "Docstring (\"\"\"Docstring goes here\"\"\"): This is a documentation string that explains what the function does, its arguments (Args), and what it returns (Returns). It's good practice to include docstrings to make your code understandable.\n",
        "return [number for number in numbers if number >= 0]: This is the core of the function. It's a list comprehension, which is a concise way to create lists in Python.\n",
        "for number in numbers: This iterates through each element in the input numbers list.\n",
        "if number >= 0: This is a condition. For each number, it checks if the number is greater than or equal to 0 (i.e., not negative).\n",
        "[number ...]: If the condition is True, the number is included in the new list being created. The entire expression creates a new list containing only the numbers from the original list that met the condition (>= 0). This new list is then returned by the function.\n",
        "# Example usage:: This is a comment indicating the start of example code demonstrating how to use the function.\n",
        "my_list = [1, -2, 3, -4, 5, 0, -10]: This line creates a list named my_list containing both positive, negative, and zero values.\n",
        "filtered_list = filter_negative_numbers(my_list): This line calls the filter_negative_numbers function with my_list as the input. The returned list (containing only the non-negative numbers) is stored in the variable filtered_list.\n",
        "print(filtered_list): This line prints the contents of the filtered_list to the console. Based on the input my_list, the output will be [1, 3, 5, 0].\n",
        "In summary, this code defines a function that efficiently creates a new list containing only the non-negative elements from an input list, and then demonstrates how to use this function with an example list.\n",
        "\n",
        "What can I help you build?\n",
        "0 / 2000\n",
        "Gemini can make mistakes so double-check it and use code with caution. Learn more"
      ],
      "metadata": {
        "id": "wYtGB9lAZ1bH"
      }
    }
  ]
}