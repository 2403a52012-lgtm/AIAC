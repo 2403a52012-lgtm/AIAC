{
  "nbformat": 4,
  "nbformat_minor": 0,
  "metadata": {
    "colab": {
      "provenance": [],
      "authorship_tag": "ABX9TyMZJklnwjUe+brxPcE834vA",
      "include_colab_link": true
    },
    "kernelspec": {
      "name": "python3",
      "display_name": "Python 3"
    },
    "language_info": {
      "name": "python"
    }
  },
  "cells": [
    {
      "cell_type": "markdown",
      "metadata": {
        "id": "view-in-github",
        "colab_type": "text"
      },
      "source": [
        "<a href=\"https://colab.research.google.com/github/2403a52012-lgtm/AIAC/blob/main/AI_LAB_9_3.ipynb\" target=\"_parent\"><img src=\"https://colab.research.google.com/assets/colab-badge.svg\" alt=\"Open In Colab\"/></a>"
      ]
    },
    {
      "cell_type": "code",
      "execution_count": null,
      "metadata": {
        "id": "6h-a1VXaYeBa"
      },
      "outputs": [],
      "source": []
    },
    {
      "cell_type": "markdown",
      "source": [
        "TASK 1:\n",
        "Write python function to return sum of even and odd numbers in the given list.\n",
        "• Incorporate manual docstring in code with Google Style\n",
        "• Use an AI-assisted tool (e.g., Copilot, Cursor AI) to generate a docstring describing\n",
        "the function.\n",
        "• Compare the AI-generated docstring with your manually written one.\n",
        "PROMPT:\n",
        "Generate a python code and write python function to return sum of even and odd numbers in the given list.\n",
        "• Incorporate manual docstring in code with Google Style\n",
        "• Use an AI-assisted tool (e.g., Copilot, Cursor AI) to generate a docstring describing\n",
        "the function.\n",
        "• Compare the AI-generated docstring with your manually written one.\n"
      ],
      "metadata": {
        "id": "D7Hi2ge-YrLL"
      }
    },
    {
      "cell_type": "code",
      "source": [],
      "metadata": {
        "id": "H-s-KlwoYquB"
      },
      "execution_count": null,
      "outputs": []
    },
    {
      "cell_type": "code",
      "metadata": {
        "colab": {
          "base_uri": "https://localhost:8080/"
        },
        "id": "f8f6e108",
        "outputId": "d1a3dcd3-89cf-410a-b3b1-86e046dc6607"
      },
      "source": [
        "def sum_even_odd(numbers):\n",
        "  \"\"\"Calculates the sum of even and odd numbers in a list.\n",
        "\n",
        "  Args:\n",
        "    numbers: A list of integers.\n",
        "\n",
        "  Returns:\n",
        "    A tuple containing two integers: (sum_of_even, sum_of_odd).\n",
        "  \"\"\"\n",
        "  sum_even = 0\n",
        "  sum_odd = 0\n",
        "  for number in numbers:\n",
        "    if number % 2 == 0:\n",
        "      sum_even += number\n",
        "    else:\n",
        "      sum_odd += number\n",
        "  return (sum_even, sum_odd)\n",
        "\n",
        "# Example usage:\n",
        "my_list = [1, 2, 3, 4, 5, 6, 7, 8, 9, 10]\n",
        "even_sum, odd_sum = sum_even_odd(my_list)\n",
        "print(f\"Sum of even numbers: {even_sum}\")\n",
        "print(f\"Sum of odd numbers: {odd_sum}\")"
      ],
      "execution_count": 1,
      "outputs": [
        {
          "output_type": "stream",
          "name": "stdout",
          "text": [
            "Sum of even numbers: 30\n",
            "Sum of odd numbers: 25\n"
          ]
        }
      ]
    },
    {
      "cell_type": "markdown",
      "source": [
        "EXPLANATION:\n",
        "This code defines a Python function called sum_even_odd that takes a list of numbers as input. It initializes two variables, sum_even and sum_odd, to zero. Then, it iterates through each number in the input list. For each number, it checks if the number is even using the modulo operator (%). If it's even, it adds the number to sum_even; otherwise, it adds it to sum_odd. Finally, the function returns a tuple containing the total sum of even numbers and the total sum of odd numbers. The example usage shows how to call the function with a sample list and print the results.\n",
        "\n",
        "TASK 2:\n",
        "Write python program for sru_student class with attributes like name, roll no.,\n",
        "hostel_status and fee_update method and display_details method.\n",
        "• Write comments manually for each line/code block\n",
        "• Ask an AI tool to add inline comments explaining each line/step.\n",
        "• Compare the AI-generated comments with your manually written one.\n",
        "PROMPT:\n",
        "Generate a python code and write python program for sru_student class with attributes like name, roll no.,\n",
        "hostel_status and fee_update method and display_details method.\n",
        "• Write comments manually for each line/code block\n",
        "• Ask an AI tool to add inline comments explaining each line/step.\n",
        "• Compare the AI-generated comments with your manually written one."
      ],
      "metadata": {
        "id": "adZnsEJUZUEB"
      }
    },
    {
      "cell_type": "code",
      "metadata": {
        "colab": {
          "base_uri": "https://localhost:8080/"
        },
        "id": "557b9d7d",
        "outputId": "b1d83623-247d-4126-fcab-f93442ee85c0"
      },
      "source": [
        "class sru_student:\n",
        "    # Constructor to initialize the student object\n",
        "    def __init__(self, name, roll_no, hostel_status):\n",
        "        self.name = name  # Assign the student's name\n",
        "        self.roll_no = roll_no  # Assign the student's roll number\n",
        "        self.hostel_status = hostel_status  # Assign the student's hostel status\n",
        "        self.fees_due = 0  # Initialize fees due to 0\n",
        "\n",
        "    # Method to update the student's fees\n",
        "    def fee_update(self, amount):\n",
        "        self.fees_due += amount  # Add the given amount to the fees due\n",
        "\n",
        "    # Method to display the student's details\n",
        "    def display_details(self):\n",
        "        print(f\"Student Name: {self.name}\")  # Print the student's name\n",
        "        print(f\"Roll Number: {self.roll_no}\")  # Print the student's roll number\n",
        "        print(f\"Hostel Status: {self.hostel_status}\")  # Print the student's hostel status\n",
        "        print(f\"Fees Due: {self.fees_due}\")  # Print the student's fees due\n",
        "\n",
        "# Example usage:\n",
        "# Create a student object\n",
        "student1 = sru_student(\"Alice\", \"SRU123\", \"Resident\")\n",
        "\n",
        "# Update the student's fees\n",
        "student1.fee_update(50000)\n",
        "\n",
        "# Display the student's details\n",
        "student1.display_details()"
      ],
      "execution_count": 2,
      "outputs": [
        {
          "output_type": "stream",
          "name": "stdout",
          "text": [
            "Student Name: Alice\n",
            "Roll Number: SRU123\n",
            "Hostel Status: Resident\n",
            "Fees Due: 50000\n"
          ]
        }
      ]
    },
    {
      "cell_type": "markdown",
      "source": [
        "EXPLANATION:\n",
        "This code defines a Python class called sru_student.\n",
        "\n",
        "The __init__ method is the constructor. It's called when you create a new sru_student object. It takes the student's name, roll_no, and hostel_status as input and initializes these attributes for the object. It also initializes fees_due to 0.\n",
        "The fee_update method takes an amount as input and adds it to the fees_due attribute.\n",
        "The display_details method prints the student's name, roll_no, hostel_status, and fees_due.\n",
        "The example usage demonstrates how to create an instance of the sru_student class (student1), update its fees using fee_update, and then display its details using display_details.\n",
        "\n"
      ],
      "metadata": {
        "id": "mposmTnKaMDF"
      }
    },
    {
      "cell_type": "code",
      "source": [],
      "metadata": {
        "id": "XqdiohbjaQFd"
      },
      "execution_count": null,
      "outputs": []
    },
    {
      "cell_type": "markdown",
      "source": [
        "TASK 3:\n",
        "Write a Python script with 3–4 functions (e.g., calculator: add, subtract, multiply,\n",
        "divide).\n",
        "• Incorporate manual docstring in code with NumPy Style\n",
        "• Use AI assistance to generate a module-level docstring + individual function\n",
        "docstrings.\n",
        "• Compare the AI-generated docstring with your manually written one.\n",
        "PROMPT:\n",
        "Generate a python code and write a Python script with 3–4 functions (e.g., calculator: add, subtract, multiply,\n",
        "divide).\n",
        "• Incorporate manual docstring in code with NumPy Style\n",
        "• Use AI assistance to generate a module-level docstring + individual function\n",
        "docstrings.\n",
        "• Compare the AI-generated docstring with your manually written one."
      ],
      "metadata": {
        "id": "lakkc5CDaQ8p"
      }
    },
    {
      "cell_type": "code",
      "metadata": {
        "colab": {
          "base_uri": "https://localhost:8080/"
        },
        "id": "17ec783e",
        "outputId": "da3dafb0-2d7d-4ea3-8650-3c3653bbd4b3"
      },
      "source": [
        "# This module provides basic arithmetic operations.\n",
        "\n",
        "def add(a, b):\n",
        "    \"\"\"\n",
        "    Adds two numbers.\n",
        "\n",
        "    Parameters\n",
        "    ----------\n",
        "    a : float or int\n",
        "        The first number.\n",
        "    b : float or int\n",
        "        The second number.\n",
        "\n",
        "    Returns\n",
        "    -------\n",
        "    float or int\n",
        "        The sum of the two numbers.\n",
        "    \"\"\"\n",
        "    return a + b\n",
        "\n",
        "def subtract(a, b):\n",
        "    \"\"\"\n",
        "    Subtracts the second number from the first.\n",
        "\n",
        "    Parameters\n",
        "    ----------\n",
        "    a : float or int\n",
        "        The first number.\n",
        "    b : float or int\n",
        "        The second number.\n",
        "\n",
        "    Returns\n",
        "    -------\n",
        "    float or int\n",
        "        The difference between the two numbers.\n",
        "    \"\"\"\n",
        "    return a - b\n",
        "\n",
        "def multiply(a, b):\n",
        "    \"\"\"\n",
        "    Multiplies two numbers.\n",
        "\n",
        "    Parameters\n",
        "    ----------\n",
        "    a : float or int\n",
        "        The first number.\n",
        "    b : float or int\n",
        "        The second number.\n",
        "\n",
        "    Returns\n",
        "    -------\n",
        "    float or int\n",
        "        The product of the two numbers.\n",
        "    \"\"\"\n",
        "    return a * b\n",
        "\n",
        "def divide(a, b):\n",
        "    \"\"\"\n",
        "    Divides the first number by the second.\n",
        "\n",
        "    Parameters\n",
        "    ----------\n",
        "    a : float or int\n",
        "        The numerator.\n",
        "    b : float or int\n",
        "        The denominator.\n",
        "\n",
        "    Returns\n",
        "    -------\n",
        "    float or int\n",
        "        The result of the division.\n",
        "\n",
        "    Raises\n",
        "    ------\n",
        "    ZeroDivisionError\n",
        "        If the denominator is zero.\n",
        "    \"\"\"\n",
        "    if b == 0:\n",
        "        raise ZeroDivisionError(\"Division by zero is not allowed.\")\n",
        "    return a / b\n",
        "\n",
        "# Example usage:\n",
        "num1 = 10\n",
        "num2 = 5\n",
        "\n",
        "print(f\"{num1} + {num2} = {add(num1, num2)}\")\n",
        "print(f\"{num1} - {num2} = {subtract(num1, num2)}\")\n",
        "print(f\"{num1} * {num2} = {multiply(num1, num2)}\")\n",
        "print(f\"{num1} / {num2} = {divide(num1, num2)}\")"
      ],
      "execution_count": 3,
      "outputs": [
        {
          "output_type": "stream",
          "name": "stdout",
          "text": [
            "10 + 5 = 15\n",
            "10 - 5 = 5\n",
            "10 * 5 = 50\n",
            "10 / 5 = 2.0\n"
          ]
        }
      ]
    },
    {
      "cell_type": "markdown",
      "source": [
        "EXPLANATION:\n",
        "This Python code defines four functions for basic arithmetic operations: add, subtract, multiply, and divide.\n",
        "\n",
        "add(a, b): This function takes two numbers, a and b, as input and returns their sum.\n",
        "subtract(a, b): This function takes two numbers, a and b, and returns the result of subtracting b from a.\n",
        "multiply(a, b): This function takes two numbers, a and b, and returns their product.\n",
        "divide(a, b): This function takes two numbers, a and b, and returns the result of dividing a by b. It includes a check to raise a ZeroDivisionError if the denominator b is zero.\n",
        "The code also includes example usage where two variables, num1 and num2, are defined and then used as arguments to call each of the functions. The results of these operations are then printed to the console. The docstrings for each function are written in NumPy style, explaining the parameters, return values, and potential errors.\n",
        "\n"
      ],
      "metadata": {
        "id": "raJcK08EbD-G"
      }
    }
  ]
}