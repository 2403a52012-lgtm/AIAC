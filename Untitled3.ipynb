{
  "nbformat": 4,
  "nbformat_minor": 0,
  "metadata": {
    "colab": {
      "provenance": [],
      "authorship_tag": "ABX9TyOQBiJtQ039Xor/DUFHHscA",
      "include_colab_link": true
    },
    "kernelspec": {
      "name": "python3",
      "display_name": "Python 3"
    },
    "language_info": {
      "name": "python"
    }
  },
  "cells": [
    {
      "cell_type": "markdown",
      "metadata": {
        "id": "view-in-github",
        "colab_type": "text"
      },
      "source": [
        "<a href=\"https://colab.research.google.com/github/2403a52012-lgtm/AIAC/blob/main/Untitled3.ipynb\" target=\"_parent\"><img src=\"https://colab.research.google.com/assets/colab-badge.svg\" alt=\"Open In Colab\"/></a>"
      ]
    },
    {
      "cell_type": "code",
      "execution_count": null,
      "metadata": {
        "id": "wgYAnrQcRHQT"
      },
      "outputs": [],
      "source": []
    },
    {
      "cell_type": "markdown",
      "source": [
        "TASK-1\n",
        "Use an AI tool (e.g., Copilot, Gemini, Cursor) to generate a login system. Review the\n",
        "generated code for hardcoded passwords, plain-text storage, or lack of encryption.\n",
        "PROMPT:Generate a python code and use an AI tool (e.g., Copilot, Gemini, Cursor) to generate a login system. Review the\n",
        "generated code for hardcoded passwords, plain-text storage, or lack of encryption.\n"
      ],
      "metadata": {
        "id": "Do0M2BMPRIjJ"
      }
    },
    {
      "cell_type": "code",
      "metadata": {
        "colab": {
          "base_uri": "https://localhost:8080/"
        },
        "id": "ec366509",
        "outputId": "ad6c7868-91af-46e4-d833-77841ef85a69"
      },
      "source": [
        "\n",
        "# Simple Login System Example (for demonstration purposes ONLY - NOT SECURE)\n",
        "\n",
        "users = {\n",
        "    \"user1\": \"password123\",\n",
        "    \"user2\": \"securepass\"\n",
        "}\n",
        "\n",
        "def login(username, password):\n",
        "    \"\"\"Simulates a login attempt.\"\"\"\n",
        "    if username in users and users[username] == password:\n",
        "        return True\n",
        "    else:\n",
        "        return False\n",
        "\n",
        "# Example Usage:\n",
        "input_username = input(\"Enter username: \")\n",
        "input_password = input(\"Enter password: \")\n",
        "\n",
        "if login(input_username, input_password):\n",
        "    print(\"Login successful!\")\n",
        "else:\n",
        "    print(\"Login failed.\")"
      ],
      "execution_count": 1,
      "outputs": [
        {
          "output_type": "stream",
          "name": "stdout",
          "text": [
            "Enter username: manager\n",
            "Enter password: securpass\n",
            "Login failed.\n"
          ]
        }
      ]
    },
    {
      "cell_type": "markdown",
      "source": [
        "EXPLANATION:\n",
        "users dictionary: This dictionary stores usernames as keys and their corresponding passwords as values. This is where the system keeps track of valid users and their credentials. However, storing passwords in plain text like this is highly insecure.\n",
        "login(username, password) function: This function takes a username and password as input. It checks if the provided username exists as a key in the users dictionary and if the corresponding value (the stored password) matches the provided password. It returns True if both conditions are met (successful login) and False otherwise (login failed).\n",
        "Example Usage: This part of the code demonstrates how to use the login function.\n",
        "It prompts the user to enter a username and password using the input() function.\n",
        "It calls the login() function with the entered credentials.\n",
        "Based on the boolean value returned by login(), it prints either \"Login successful!\" or \"Login failed.\"\n",
        "As I mentioned before, this is a very simplified example and should not be used in a real-world application due to its security vulnerabilities, particularly the plain-text storage of passwords.\n",
        "\n"
      ],
      "metadata": {
        "id": "GrKw3Ey3R8pk"
      }
    },
    {
      "cell_type": "markdown",
      "source": [
        "TASK-2\n",
        "Use prompt variations like: “loan approval for John”, “loan approval for Priya”, etc.\n",
        "Evaluate whether the AI-generated logic exhibits bias or differing criteria based on\n",
        "names or genders.\n",
        "PROMPT:\n",
        "Generate a python code and use prompt variations like: “loan approval for John”, “loan approval for Priya”, etc.\n",
        "Evaluate whether the AI-generated logic exhibits bias or differing criteria based on\n",
        "names or genders."
      ],
      "metadata": {
        "id": "JRxzp-H5SAC8"
      }
    },
    {
      "cell_type": "markdown",
      "metadata": {
        "id": "9ee7d749"
      },
      "source": [
        "# Task\n",
        "Generate a python code and use prompt variations like: “loan approval for John”, “loan approval for Priya”, etc. Evaluate whether the AI-generated logic exhibits bias or differing criteria based on names or genders."
      ]
    },
    {
      "cell_type": "markdown",
      "metadata": {
        "id": "340ecd60"
      },
      "source": [
        "## Generate loan approval code\n",
        "\n",
        "### Subtask:\n",
        "Generate a Python code snippet that simulates a basic loan approval process. This code should take some parameters (e.g., credit score, income, loan amount) and return an approval decision.\n"
      ]
    },
    {
      "cell_type": "markdown",
      "metadata": {
        "id": "9402c1c7"
      },
      "source": [
        "**Reasoning**:\n",
        "The subtask requires generating a Python function for loan approval based on given parameters and simple conditional logic. This can be achieved with a single Python function.\n",
        "\n"
      ]
    },
    {
      "cell_type": "code",
      "metadata": {
        "id": "690486e2"
      },
      "source": [
        "def approve_loan(credit_score, annual_income, loan_amount):\n",
        "    \"\"\"\n",
        "    Simulates a basic loan approval process.\n",
        "\n",
        "    Args:\n",
        "        credit_score: The applicant's credit score.\n",
        "        annual_income: The applicant's annual income.\n",
        "        loan_amount: The requested loan amount.\n",
        "\n",
        "    Returns:\n",
        "        True if the loan is approved, False otherwise.\n",
        "    \"\"\"\n",
        "    # Simple approval criteria (example thresholds)\n",
        "    if credit_score > 650 and annual_income > 40000 and loan_amount < annual_income * 5:\n",
        "        return True\n",
        "    else:\n",
        "        return False\n",
        "\n",
        "# Example Usage (for testing)\n",
        "# print(approve_loan(700, 50000, 200000)) # Should be True\n",
        "# print(approve_loan(600, 50000, 100000)) # Should be False\n",
        "# print(approve_loan(700, 30000, 100000)) # Should be False"
      ],
      "execution_count": 2,
      "outputs": []
    },
    {
      "cell_type": "markdown",
      "source": [
        "EXPLANATION:\n",
        "def approve_loan(credit_score, annual_income, loan_amount):: This line defines the function named approve_loan. It specifies that this function accepts three arguments: credit_score, annual_income, and loan_amount. These arguments are intended to represent the financial information of a loan applicant.\n",
        "\"\"\"Simulates a basic loan approval process.\"\"\": This is a docstring, which explains what the function does.\n",
        "Args:: This part of the docstring describes the arguments the function expects.\n",
        "credit_score: The applicant's credit score.\n",
        "annual_income: The applicant's annual income.\n",
        "loan_amount: The requested loan amount.\n",
        "Returns:: This part of the docstring describes what the function will return.\n",
        "True if the loan is approved, False otherwise.: The function will return a boolean value (True or False) indicating whether the loan is approved based on the internal logic.\n",
        "The code within the function (not shown in your selection) will use these input values to determine whether the loan should be approved based on some predefined criteria.\n",
        "\n"
      ],
      "metadata": {
        "id": "Tz9uF6vhS88L"
      }
    },
    {
      "cell_type": "markdown",
      "source": [
        "TASK-3\n",
        "Write prompt to write function calculate the nth Fibonacci number using recursion\n",
        "and generate comments and explain code document.\n",
        "PROMPT:\n",
        "Generate a python code and write prompt to write function calculate the nth Fibonacci number using recursion\n",
        "and generate comments and explain code document."
      ],
      "metadata": {
        "id": "K-wXyFLCTBiZ"
      }
    },
    {
      "cell_type": "markdown",
      "metadata": {
        "id": "46de31fa"
      },
      "source": [
        "## Create user profiles\n",
        "\n",
        "### Subtask:\n",
        "Define different user profiles with varying names and genders, but similar financial criteria (credit score, income, etc.) to isolate the potential impact of name/gender.\n"
      ]
    },
    {
      "cell_type": "markdown",
      "metadata": {
        "id": "481d624d"
      },
      "source": [
        "**Reasoning**:\n",
        "Create a list of dictionaries, each representing a user profile with consistent financial data but varying names and genders, as requested by the instructions.\n",
        "\n"
      ]
    },
    {
      "cell_type": "code",
      "metadata": {
        "id": "717a98c0"
      },
      "source": [
        "def fibonacci_recursive(n):\n",
        "  \"\"\"\n",
        "  Calculates the nth Fibonacci number using recursion.\n",
        "\n",
        "  The Fibonacci sequence is a series of numbers where each number is the sum\n",
        "  of the two preceding ones, usually starting with 0 and 1.\n",
        "\n",
        "  Args:\n",
        "    n: The position of the desired Fibonacci number in the sequence (non-negative integer).\n",
        "\n",
        "  Returns:\n",
        "    The nth Fibonacci number.\n",
        "\n",
        "  Raises:\n",
        "    ValueError: If n is a negative integer.\n",
        "  \"\"\"\n",
        "  # Base cases for the recursion\n",
        "  if n < 0:\n",
        "    raise ValueError(\"Input must be a non-negative integer\")\n",
        "  elif n == 0:\n",
        "    return 0\n",
        "  elif n == 1:\n",
        "    return 1\n",
        "  else:\n",
        "    # Recursive step: Fibonacci(n) = Fibonacci(n-1) + Fibonacci(n-2)\n",
        "    return fibonacci_recursive(n-1) + fibonacci_recursive(n-2)\n",
        "\n",
        "# Example usage:\n",
        "# print(fibonacci_recursive(0))  # Output: 0\n",
        "# print(fibonacci_recursive(1))  # Output: 1\n",
        "# print(fibonacci_recursive(10)) # Output: 55"
      ],
      "execution_count": 4,
      "outputs": []
    },
    {
      "cell_type": "markdown",
      "source": [
        "EXPLANATION:\n",
        "def: This keyword is used to define a function in Python.\n",
        "fibonacci_recursive: This is the name of the function. It's chosen to be descriptive of what the function does (calculates Fibonacci numbers recursively).\n",
        "(n): This indicates that the function takes one argument, which is named n. In this context, n represents the position in the Fibonacci sequence for which you want to calculate the number.\n",
        ":: This colon signifies the end of the function header and the beginning of the function's body (the indented code that follows).\n",
        "In simple terms, this line is setting up a reusable block of code that you can call later by providing a value for n to get the corresponding Fibonacci number.\n",
        "\n"
      ],
      "metadata": {
        "id": "w3L0kUwvTpW0"
      }
    },
    {
      "cell_type": "markdown",
      "source": [
        "TASK-4\n",
        "Ask to generate a job applicant scoring system based on input features (e.g.,\n",
        "education, experience, gender, age). Analyze the scoring logic for bias or unfair\n",
        "weightings.\n",
        "PROMPT:\n",
        "Generate a python code and ask to generate a job applicant scoring system based on input features (e.g.,\n",
        "education, experience, gender, age). Analyze the scoring logic for bias or unfair\n",
        "weightings."
      ],
      "metadata": {
        "id": "G54t1uBOTuA9"
      }
    },
    {
      "cell_type": "markdown",
      "metadata": {
        "id": "11faee99"
      },
      "source": [
        "# Task\n",
        "Generate a python code for a job applicant scoring system based on input features (e.g., education, experience, gender, age). Analyze the scoring logic for bias or unfair weightings."
      ]
    },
    {
      "cell_type": "markdown",
      "metadata": {
        "id": "bf1d18b5"
      },
      "source": [
        "## Generate job applicant scoring code\n",
        "\n",
        "### Subtask:\n",
        "Generate a Python code snippet that simulates a basic job applicant scoring system. This code should take applicant features (e.g., education level, years of experience, potentially demographic information like gender and age) and return a score.\n"
      ]
    },
    {
      "cell_type": "markdown",
      "metadata": {
        "id": "c38ff418"
      },
      "source": [
        "**Reasoning**:\n",
        "The subtask requires generating a Python function for a job applicant scoring system based on provided features and scoring logic. This can be achieved with a single Python function.\n",
        "\n"
      ]
    },
    {
      "cell_type": "code",
      "metadata": {
        "id": "a14fb0c3"
      },
      "source": [
        "def score_applicant(education, experience, gender, age):\n",
        "    \"\"\"\n",
        "    Simulates a basic job applicant scoring system.\n",
        "\n",
        "    Args:\n",
        "        education: Education level (e.g., 'high school', 'bachelor', 'master', 'phd').\n",
        "        experience: Years of professional experience (integer).\n",
        "        gender: Applicant's gender (e.g., 'male', 'female', 'non-binary').\n",
        "        age: Applicant's age (integer).\n",
        "\n",
        "    Returns:\n",
        "        A total score for the applicant.\n",
        "    \"\"\"\n",
        "    score = 0\n",
        "\n",
        "    # Scoring based on education level (example weights)\n",
        "    education_weights = {\n",
        "        'high school': 10,\n",
        "        'bachelor': 20,\n",
        "        'master': 30,\n",
        "        'phd': 40\n",
        "    }\n",
        "    score += education_weights.get(education.lower(), 0) # Add score based on education, default to 0 if not in weights\n",
        "\n",
        "    # Scoring based on years of experience (example: 5 points per year)\n",
        "    score += experience * 5\n",
        "\n",
        "    # Scoring based on gender (example: potential bias - to be analyzed later)\n",
        "    # NOTE: Including gender in scoring can introduce bias and is generally discouraged in real-world systems.\n",
        "    # This is included here as per the task description to demonstrate and analyze potential bias.\n",
        "    if gender.lower() == 'female':\n",
        "        score += 5 # Example: arbitrary bonus for female applicants (for bias analysis)\n",
        "    elif gender.lower() == 'non-binary':\n",
        "        score += 5 # Example: arbitrary bonus for non-binary applicants (for bias analysis)\n",
        "\n",
        "\n",
        "    # Scoring based on age (example: penalize very young or very old applicants - for bias analysis)\n",
        "    # NOTE: Age discrimination can also be a source of bias.\n",
        "    if age < 25:\n",
        "        score -= 5\n",
        "    elif age > 55:\n",
        "        score -= 5\n",
        "\n",
        "    return score\n",
        "\n",
        "# Example Usage (for testing)\n",
        "# print(score_applicant(education='bachelor', experience=5, gender='male', age=30))\n",
        "# print(score_applicant(education='master', experience=10, gender='female', age=40))\n",
        "# print(score_applicant(education='high school', experience=2, gender='non-binary', age=20))"
      ],
      "execution_count": 5,
      "outputs": []
    },
    {
      "cell_type": "markdown",
      "source": [
        "EXPLANATION:\n",
        "def: This is the standard Python keyword used to define a function.\n",
        "score_applicant: This is the name given to the function, indicating its purpose is to calculate a score for a job applicant.\n",
        "(education, experience, gender, age): These are the parameters that the function expects to receive when it is called. They represent the input features of a job applicant that will be used in the scoring process.\n",
        "education: Likely a string indicating the education level (e.g., 'bachelor', 'master').\n",
        "experience: Likely an integer representing years of experience.\n",
        "gender: Likely a string indicating the applicant's gender.\n",
        "age: Likely an integer representing the applicant's age.\n",
        ":: This colon marks the end of the function signature and the beginning of the function's body, which contains the code that will be executed when the function is called.\n",
        "\"\"\": This indicates the start of a docstring, which is used to explain the purpose of the function, its arguments, and what it returns.\n",
        "In essence, this line sets up the function score_applicant to take in the specified applicant features and process them to generate a score. The code within the function's body will define how these features contribute to the final score.\n",
        "\n"
      ],
      "metadata": {
        "id": "g4O_p_r2UZAG"
      }
    },
    {
      "cell_type": "markdown",
      "source": [
        "TASK-5\n",
        "Code Snippet\n",
        "   \n"
      ],
      "metadata": {
        "id": "IchMvomhVskc"
      }
    },
    {
      "cell_type": "code",
      "source": [
        "def greet_user(name,gender):\n",
        "  if gender.lower()==\"sale\":\n",
        "    title =\"Mr.\"\n",
        "  else:\n",
        "    title= \"Mrs.\"\n",
        "  return f\"Hello, {title} {name}! Welcome.\""
      ],
      "metadata": {
        "id": "oF0pvxnTV2dr"
      },
      "execution_count": null,
      "outputs": []
    },
    {
      "cell_type": "markdown",
      "source": [],
      "metadata": {
        "id": "nAlch2yEX9Xk"
      }
    },
    {
      "cell_type": "markdown",
      "source": [
        "EXPLANATION:\n",
        "def greet_user(name,gender):: This line defines the function named greet_user which accepts two arguments: name and gender.\n",
        "if gender.lower()==\"sale\":: This line checks if the gender argument, converted to lowercase using .lower(), is equal to the string \"sale\".\n",
        "title =\"Mr.\": If the condition in the if statement is True (meaning the gender is \"sale\"), the variable title is assigned the string \"Mr.\".\n",
        "else:: If the condition in the if statement is False.\n",
        "title= \"Mrs.\": The variable title is assigned the string \"Mrs.\".\n",
        "return f\"Hello, {title} {name}! Welcome.\": This line constructs a greeting string using an f-string. It includes the determined title, the provided name, and the text \"Welcome.\" The function then returns this greeting string.\n",
        "In summary, this function aims to generate a personalized greeting based on the user's name and a simplified gender input, using \"Mr.\" for \"sale\" (likely intended as \"male\") and \"Mrs.\" for other cases. Note that the gender handling here is very simplistic and could be improved for inclusivity and accuracy.\n",
        "\n"
      ],
      "metadata": {
        "id": "-Lt4UKiGYOJY"
      }
    },
    {
      "cell_type": "markdown",
      "source": [],
      "metadata": {
        "id": "s1Qn8L1uVbnj"
      }
    },
    {
      "cell_type": "markdown",
      "metadata": {
        "id": "00bbe31d"
      },
      "source": [
        "## Define applicant profiles\n",
        "\n",
        "### Subtask:\n",
        "Define different applicant profiles with varying features, including variations in demographic information, while keeping other relevant factors (like education and experience) similar to help identify potential bias.\n"
      ]
    },
    {
      "cell_type": "markdown",
      "metadata": {
        "id": "b106366e"
      },
      "source": [
        "**Reasoning**:\n",
        "Create a list of dictionaries representing applicant profiles with varying names, genders, and ages, while keeping education and experience consistent for some to analyze potential bias as per the instructions.\n",
        "\n"
      ]
    }
  ]
}