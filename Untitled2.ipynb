{
  "nbformat": 4,
  "nbformat_minor": 0,
  "metadata": {
    "colab": {
      "provenance": [],
      "authorship_tag": "ABX9TyMeV3cxmhPsmuHU6UUnXIcc",
      "include_colab_link": true
    },
    "kernelspec": {
      "name": "python3",
      "display_name": "Python 3"
    },
    "language_info": {
      "name": "python"
    }
  },
  "cells": [
    {
      "cell_type": "markdown",
      "metadata": {
        "id": "view-in-github",
        "colab_type": "text"
      },
      "source": [
        "<a href=\"https://colab.research.google.com/github/2403a52012-lgtm/AIAC/blob/main/Untitled2.ipynb\" target=\"_parent\"><img src=\"https://colab.research.google.com/assets/colab-badge.svg\" alt=\"Open In Colab\"/></a>"
      ]
    },
    {
      "cell_type": "code",
      "execution_count": null,
      "metadata": {
        "id": "3NQK5Dn9GnpF"
      },
      "outputs": [],
      "source": [
        "Write a comment and the initial line of a loop to iterate over a list. Allow GitHub Copilot to\n",
        "complete the logic to sum all even numbers in the list.\n",
        "PROMPT: Generate and  write a comment and the initial line of a loop to iterate over a list. Allow GitHub Copilot to\n",
        "complete the logic to sum all even numbers in the list."
      ]
    },
    {
      "cell_type": "code",
      "metadata": {
        "colab": {
          "base_uri": "https://localhost:8080/"
        },
        "id": "26f3b628",
        "outputId": "3484b880-ff8a-4fa7-d685-dce5fa9b82f1"
      },
      "source": [
        "# Iterate over the list and sum all even numbers\n",
        "my_list = [1, 2, 3, 4, 5, 6, 7, 8, 9, 10]\n",
        "even_sum = 0\n",
        "for number in my_list:\n",
        "    if number % 2 == 0:\n",
        "        even_sum += number\n",
        "\n",
        "print(f\"The sum of even numbers in the list is: {even_sum}\")"
      ],
      "execution_count": 1,
      "outputs": [
        {
          "output_type": "stream",
          "name": "stdout",
          "text": [
            "The sum of even numbers in the list is: 30\n"
          ]
        }
      ]
    },
    {
      "cell_type": "markdown",
      "source": [
        "EXPLANATION:\n",
        "my_list = [1, 2, 3, 4, 5, 6, 7, 8, 9, 10]: This line creates a list named my_list containing integers from 1 to 10.\n",
        "even_sum = 0: This line initializes a variable named even_sum to 0. This variable will store the sum of the even numbers found in the list.\n",
        "for number in my_list:: This is a for loop that iterates through each element in my_list. In each iteration, the current element is assigned to the variable number.\n",
        "if number % 2 == 0:: Inside the loop, this if statement checks if the current number is even. The modulo operator (%) returns the remainder of a division. If a number divided by 2 has a remainder of 0, it's an even number.\n",
        "even_sum += number: If the if condition is true (the number is even), this line adds the current number to the even_sum variable. The += is a shorthand for even_sum = even_sum + number.\n",
        "print(f\"The sum of even numbers in the list is: {even_sum}\"): After the loop has finished iterating through all elements in my_list, this line prints the final value of even_sum to the console. The f\"\" creates an f-string, which allows you to embed the value of variables directly within the string.\n",
        "In summary, this code iterates through a list of numbers, checks if each number is even, and if it is, adds it to a running total stored in the even_sum variable. Finally, it prints the total sum of the even numbers.\n",
        "\n"
      ],
      "metadata": {
        "id": "jhU3bFNELfUW"
      }
    },
    {
      "cell_type": "markdown",
      "source": [],
      "metadata": {
        "id": "YKrYkboQLfQ4"
      }
    },
    {
      "cell_type": "markdown",
      "source": [
        "TASK-3\n",
        "Start a function that takes age as input and returns whether the person is a child, teenager,\n",
        "adult, or senior using if-elif-else. Use Copilot to complete the conditionals.\n",
        "PROMPT: Generate a python code and start a function that takes age as input and returns whether the person is a child, teenager,\n",
        "adult, or senior using if-elif-else. Use Copilot to complete the conditionals."
      ],
      "metadata": {
        "id": "RSgd-mjcLwdw"
      }
    },
    {
      "cell_type": "code",
      "metadata": {
        "colab": {
          "base_uri": "https://localhost:8080/"
        },
        "id": "1c320039",
        "outputId": "469f69f0-a20b-4ca6-9436-06e9f817057f"
      },
      "source": [
        "# Function to categorize age\n",
        "def categorize_age(age):\n",
        "    if age < 13:\n",
        "        return \"child\"\n",
        "    elif age < 20:\n",
        "        return \"teenager\"\n",
        "    elif age < 65:\n",
        "        return \"adult\"\n",
        "    else:\n",
        "        return \"senior\"\n",
        "\n",
        "# Example usage:\n",
        "print(categorize_age(8))\n",
        "print(categorize_age(15))\n",
        "print(categorize_age(30))\n",
        "print(categorize_age(70))"
      ],
      "execution_count": 2,
      "outputs": [
        {
          "output_type": "stream",
          "name": "stdout",
          "text": [
            "child\n",
            "teenager\n",
            "adult\n",
            "senior\n"
          ]
        }
      ]
    },
    {
      "cell_type": "markdown",
      "source": [
        "EXPLANATION:\n"
      ],
      "metadata": {
        "id": "8uxc25lMMYnM"
      }
    },
    {
      "cell_type": "markdown",
      "source": [
        "def categorize_age(age):: This line defines a function named categorize_age that takes one argument, age.\n",
        "if age < 13:: This is the first condition. If the age is less than 13, the function will execute the code block inside this if statement.\n",
        "return \"child\": If the age is less than 13, the function immediately stops and returns the string \"child\".\n",
        "elif age < 20:: This is an \"else if\" condition. If the previous if condition was false (i.e., age is 13 or greater), this condition is checked. If the age is less than 20, the code block inside this elif is executed.\n",
        "return \"teenager\": If the age is between 13 and 19 (inclusive), the function returns the string \"teenager\".\n",
        "elif age < 65:: This is another \"else if\" condition. If the previous conditions were false (i.e., age is 20 or greater), this condition is checked. If the age is less than 65, the code block inside this elif is executed.\n",
        "return \"adult\": If the age is between 20 and 64 (inclusive), the function returns the string \"adult\".\n",
        "else:: This is the final condition. If none of the previous if or elif conditions were true (i.e., age is 65 or greater), the code block inside this else is executed.\n",
        "return \"senior\": If the age is 65 or greater, the function returns the string \"senior\".\n",
        "The lines starting with # Example usage: demonstrate how to call the categorize_age function with different age values (8, 15, 30, and 70) and print the returned category for each age.\n",
        "\n"
      ],
      "metadata": {
        "id": "66b65e3lMsbm"
      }
    },
    {
      "cell_type": "code",
      "source": [],
      "metadata": {
        "id": "yoFiyqnLMyNo"
      },
      "execution_count": null,
      "outputs": []
    },
    {
      "cell_type": "markdown",
      "source": [
        "TASK-1\n",
        "Write a comment and start a while loop to reverse the digits of a number. Let Copilot complete\n",
        "the loop logic.\n",
        "PROMPT: Generate a python code and write a comment and start a while loop to reverse the digits of a number. Let Copilot complete\n",
        "the loop logic."
      ],
      "metadata": {
        "id": "P5TA5fD6M8lz"
      }
    },
    {
      "cell_type": "code",
      "source": [],
      "metadata": {
        "id": "v1R6LNDYNTO_"
      },
      "execution_count": null,
      "outputs": []
    },
    {
      "cell_type": "code",
      "metadata": {
        "colab": {
          "base_uri": "https://localhost:8080/"
        },
        "id": "a6619ce6",
        "outputId": "dd960704-02b8-404b-e15f-9669da11f200"
      },
      "source": [
        "# Reverse the digits of a number using a while loop\n",
        "number = 12345\n",
        "reversed_number = 0\n",
        "\n",
        "while number > 0:\n",
        "    digit = number % 10\n",
        "    reversed_number = reversed_number * 10 + digit\n",
        "    number = number // 10\n",
        "\n",
        "print(f\"The reversed number is: {reversed_number}\")"
      ],
      "execution_count": 3,
      "outputs": [
        {
          "output_type": "stream",
          "name": "stdout",
          "text": [
            "The reversed number is: 54321\n"
          ]
        }
      ]
    },
    {
      "cell_type": "markdown",
      "source": [
        "EXPLANATION:\n",
        "number = 12345: This line initializes the variable number with the integer value 12345. This is the number we want to reverse.\n",
        "reversed_number = 0: This line initializes the variable reversed_number to 0. This variable will store the reversed number as it's constructed.\n",
        "while number > 0:: This is a while loop that continues as long as the value of number is greater than 0. Once number becomes 0, it means all digits have been processed.\n",
        "digit = number % 10: Inside the loop, this line extracts the last digit of the current number. The modulo operator (%) gives the remainder when number is divided by 10, which is always the last digit.\n",
        "reversed_number = reversed_number * 10 + digit: This is the core logic for building the reversed number.\n",
        "reversed_number * 10: This shifts the existing digits in reversed_number one place to the left (e.g., if reversed_number was 54, multiplying by 10 makes it 540).\n",
        "+ digit: This adds the newly extracted digit to the rightmost position of reversed_number.\n",
        "number = number // 10: This line removes the last digit from the original number. The integer division operator (//) divides number by 10 and discards any remainder (the last digit).\n",
        "print(f\"The reversed number is: {reversed_number}\"): After the loop finishes, this line prints the final value of reversed_number, which is the original number with its digits reversed.\n",
        "In essence, the loop repeatedly takes the last digit of the original number, adds it to the right side of the reversed_number, and then removes that digit from the original number until the original number becomes zero.\n",
        "\n"
      ],
      "metadata": {
        "id": "LlHie-_CNqYn"
      }
    },
    {
      "cell_type": "markdown",
      "source": [
        "TASK-5\n",
        "Begin a class Employee with attributes name and salary. Then, start a derived class Manager\n",
        "that inherits from Employee and adds a department. Let GitHub Copilot complete the methods\n",
        "and constructor chaining.\n",
        "PROMPT:\n",
        "Generate a python code and begin a class Employee with attributes name and salary. Then, start a derived class Manager\n",
        "that inherits from Employee and adds a department. Let GitHub Copilot complete the methods\n",
        "and constructor chaining."
      ],
      "metadata": {
        "id": "adycyBUZNvCD"
      }
    },
    {
      "cell_type": "code",
      "source": [],
      "metadata": {
        "id": "9IiT9IEDOBLd"
      },
      "execution_count": null,
      "outputs": []
    },
    {
      "cell_type": "code",
      "metadata": {
        "colab": {
          "base_uri": "https://localhost:8080/"
        },
        "id": "2bb72b91",
        "outputId": "bc8506c7-145b-4f9b-8bee-58b58086f27b"
      },
      "source": [
        "# Base class Employee\n",
        "class Employee:\n",
        "    def __init__(self, name, salary):\n",
        "        self.name = name\n",
        "        self.salary = salary\n",
        "\n",
        "    def display_employee(self):\n",
        "        print(f\"Name: {self.name}, Salary: {self.salary}\")\n",
        "\n",
        "# Derived class Manager inheriting from Employee\n",
        "class Manager(Employee):\n",
        "    def __init__(self, name, salary, department):\n",
        "        super().__init__(name, salary)\n",
        "        self.department = department\n",
        "\n",
        "    def display_manager(self):\n",
        "        self.display_employee()  # Reuse the base class method\n",
        "        print(f\"Department: {self.department}\")\n",
        "\n",
        "# Example usage:\n",
        "emp = Employee(\"Alice\", 50000)\n",
        "mgr = Manager(\"Bob\", 75000, \"Sales\")\n",
        "\n",
        "emp.display_employee()\n",
        "mgr.display_manager()"
      ],
      "execution_count": 4,
      "outputs": [
        {
          "output_type": "stream",
          "name": "stdout",
          "text": [
            "Name: Alice, Salary: 50000\n",
            "Name: Bob, Salary: 75000\n",
            "Department: Sales\n"
          ]
        }
      ]
    },
    {
      "cell_type": "markdown",
      "source": [
        "EXPLANATION:\n",
        "class Manager(Employee):: This line defines a class named Manager that inherits from the Employee class. This means Manager automatically gets all the attributes and methods of Employee.\n",
        "def __init__(self, name, salary, department):: This is the constructor for the Manager class. It takes self, name, salary, and an additional argument department.\n",
        "super().__init__(name, salary): This is crucial for inheritance. super() refers to the parent class (Employee). super().__init__(name, salary) calls the constructor of the Employee class, passing the name and salary values to it. This ensures that the name and salary attributes are initialized correctly in the Manager object using the logic from the base class. This is called constructor chaining.\n",
        "self.department = department: This line assigns the value passed for department to a new attribute of the Manager object called department. Manager objects have name, salary (from Employee), and department attributes.\n",
        "def display_manager(self):: This defines a method named display_manager for the Manager class.\n",
        "self.display_employee(): This line calls the display_employee method from the parent class (Employee). This is an example of code reuse, as we don't need to rewrite the logic for displaying name and salary.\n",
        "print(f\"Department: {self.department}\"): This line prints the department attribute specific to the Manager object.\n",
        "Example Usage:\n",
        "\n",
        "emp = Employee(\"Alice\", 50000): This line creates an instance (an object) of the Employee class and assigns it to the variable emp. The constructor is called with \"Alice\" for name and 50000 for salary.\n",
        "mgr = Manager(\"Bob\", 75000, \"Sales\"): This line creates an instance of the Manager class and assigns it to the variable mgr. The Manager constructor is called with \"Bob\", 75000, and \"Sales\". Inside the Manager constructor, super().__init__ is called to initialize name and salary, and then department is initialized.\n",
        "emp.display_employee(): This line calls the display_employee method on the emp object.\n",
        "mgr.display_manager(): This line calls the display_manager method on the mgr object. This method in turn calls display_employee from the parent class before printing the department.\n",
        "This code effectively shows how to create a base class, a derived class that inherits from the base class, initialize objects of both classes using constructors (including chaining for the derived class), and use methods defined in both the base and derived classes.\n",
        "\n"
      ],
      "metadata": {
        "id": "MbJnEBVrOy5m"
      }
    },
    {
      "cell_type": "markdown",
      "source": [],
      "metadata": {
        "id": "Iq3FuKvlO3hL"
      }
    }
  ]
}